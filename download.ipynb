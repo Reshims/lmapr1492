{
 "cells": [
  {
   "cell_type": "code",
   "execution_count": 5,
   "id": "9aed94d4",
   "metadata": {},
   "outputs": [],
   "source": [
    "mp_API_key = '7WeId8uaz60cHZ2s'\n",
    "mp_cryst = 'mp-9124'"
   ]
  },
  {
   "cell_type": "code",
   "execution_count": 7,
   "id": "5a8d57fd",
   "metadata": {},
   "outputs": [],
   "source": [
    "from pymatgen.ext.matproj import MPRester\n",
    "with MPRester(mp_API_key) as m:\n",
    "    structure = m.get_structure_by_material_id(mp_cryst)\n",
    "    \n",
    "    structure.to(filename=f'{mp_cryst}.cif')"
   ]
  },
  {
   "cell_type": "code",
   "execution_count": null,
   "id": "fb972cef",
   "metadata": {},
   "outputs": [],
   "source": []
  }
 ],
 "metadata": {
  "kernelspec": {
   "display_name": "Python 3",
   "language": "python",
   "name": "python3"
  },
  "language_info": {
   "codemirror_mode": {
    "name": "ipython",
    "version": 3
   },
   "file_extension": ".py",
   "mimetype": "text/x-python",
   "name": "python",
   "nbconvert_exporter": "python",
   "pygments_lexer": "ipython3",
   "version": "3.6.8"
  }
 },
 "nbformat": 4,
 "nbformat_minor": 5
}
