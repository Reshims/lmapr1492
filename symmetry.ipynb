{
 "cells": [
  {
   "cell_type": "markdown",
   "id": "926bc407",
   "metadata": {},
   "source": [
    "# 0 - Imports and load data"
   ]
  },
  {
   "cell_type": "code",
   "execution_count": 1,
   "id": "55ce8b27",
   "metadata": {},
   "outputs": [],
   "source": [
    "mp_API_key = '7WeId8uaz60cHZ2s'\n",
    "mp_cryst = 'mp-9124'"
   ]
  },
  {
   "cell_type": "code",
   "execution_count": 2,
   "id": "15050c55",
   "metadata": {},
   "outputs": [],
   "source": [
    "from pymatgen import MPRester\n",
    "from pymatgen.symmetry.analyzer import SpacegroupAnalyzer\n",
    "from jupyter_jsmol.pymatgen import quick_view"
   ]
  },
  {
   "cell_type": "code",
   "execution_count": 3,
   "id": "c1b3ba9b",
   "metadata": {
    "scrolled": false
   },
   "outputs": [
    {
     "name": "stdout",
     "output_type": "stream",
     "text": [
      "Full Formula (Li1 Zn1 As1)\n",
      "Reduced Formula: LiZnAs\n",
      "abc   :   4.227421   4.227421   4.227421\n",
      "angles:  60.000000  60.000000  60.000000\n",
      "Sites (3)\n",
      "  #  SP       a     b     c    magmom\n",
      "---  ----  ----  ----  ----  --------\n",
      "  0  Li    0.75  0.75  0.75         0\n",
      "  1  Zn    0.25  0.25  0.25        -0\n",
      "  2  As    0     0     0           -0\n"
     ]
    }
   ],
   "source": [
    "#load structure\n",
    "with MPRester(mp_API_key) as m:\n",
    "    struct = m.get_structure_by_material_id(mp_cryst)\n",
    "    print(struct)\n",
    "    #view = quick_view(struct, supercell=[1, 1, 1])\n",
    "    #display(view)\n",
    "    \n",
    "    symops = SpacegroupAnalyzer(struct).get_symmetry_operations()"
   ]
  },
  {
   "cell_type": "code",
   "execution_count": 4,
   "id": "fbf2e887",
   "metadata": {},
   "outputs": [],
   "source": [
    "Li = [.75, .75, .75]\n",
    "Zn = [.25, .25, .25]\n",
    "As = [  0,   0,   0]\n",
    "\n",
    "#symops: id, name, atomno\n",
    "symmetries = [\n",
    "    (7, 'C2 axis (y, x, z-x-y)', 2),\n",
    "    (9, 'C3 axis (-x-y-z, x, z)', 1),\n",
    "    (14, 'Mirror plane (y, x, z)', 3)\n",
    "]\n",
    "\n",
    "LiSym = [symops[sid].operate(Li) for sid, _, aid in symmetries if aid == 1][0]\n",
    "ZnSym = [symops[sid].operate(Zn) for sid, _, aid in symmetries if aid == 2][0]\n",
    "AsSym = [symops[sid].operate(As) for sid, _, aid in symmetries if aid == 3][0]"
   ]
  },
  {
   "cell_type": "markdown",
   "id": "28c2df2b",
   "metadata": {},
   "source": [
    "# 1 - Symmetry around Li"
   ]
  },
  {
   "cell_type": "code",
   "execution_count": 5,
   "id": "f1c15c5d",
   "metadata": {},
   "outputs": [
    {
     "name": "stdout",
     "output_type": "stream",
     "text": [
      "Symmetry: C3 axis (-x-y-z, x, z)\n",
      "Li [0.75, 0.75, 0.75] -> [ 0.75  0.75 -2.25]\n"
     ]
    },
    {
     "data": {
      "application/vnd.jupyter.widget-view+json": {
       "model_id": "56eb3e8e62ef4c7ba277c6e36e28b92a",
       "version_major": 2,
       "version_minor": 0
      },
      "text/plain": [
       "JsmolView(layout=Layout(align_self='stretch', height='400px'))"
      ]
     },
     "metadata": {},
     "output_type": "display_data"
    }
   ],
   "source": [
    "symid1, symname1, atomno1 = [(a, b, c) for a, b, c in symmetries if c == 1][0]\n",
    "print(f'Symmetry: {symname1}')\n",
    "print(f'Li {Li} -> {LiSym}')\n",
    "\n",
    "view1 = quick_view(struct)\n",
    "display(view1)"
   ]
  },
  {
   "cell_type": "code",
   "execution_count": 6,
   "id": "f2b7becd",
   "metadata": {},
   "outputs": [],
   "source": [
    "view1.script(f'draw symop {symid1} {{atomno={atomno1}}}')"
   ]
  },
  {
   "cell_type": "markdown",
   "id": "192d2d7c",
   "metadata": {},
   "source": [
    "# 2 - Symmetry around Zn"
   ]
  },
  {
   "cell_type": "code",
   "execution_count": 7,
   "id": "424d62f1",
   "metadata": {},
   "outputs": [
    {
     "name": "stdout",
     "output_type": "stream",
     "text": [
      "Symmetry: C2 axis (y, x, z-x-y)\n",
      "Zn [0.25, 0.25, 0.25] -> [0.25 0.25 0.25]\n"
     ]
    },
    {
     "data": {
      "application/vnd.jupyter.widget-view+json": {
       "model_id": "c4bb6c5c919d4713913f1010fe859191",
       "version_major": 2,
       "version_minor": 0
      },
      "text/plain": [
       "JsmolView(layout=Layout(align_self='stretch', height='400px'))"
      ]
     },
     "metadata": {},
     "output_type": "display_data"
    }
   ],
   "source": [
    "symid2, symname2, atomno2 = [(a, b, c) for a, b, c in symmetries if c == 2][0]\n",
    "print(f'Symmetry: {symname2}')\n",
    "print(f'Zn {Zn} -> {ZnSym}')\n",
    "\n",
    "view2 = quick_view(struct)\n",
    "display(view2)"
   ]
  },
  {
   "cell_type": "code",
   "execution_count": 8,
   "id": "5ee3578b",
   "metadata": {},
   "outputs": [],
   "source": [
    "view2.script(f'draw symop {symid2} {{atomno={atomno2}}}')"
   ]
  },
  {
   "cell_type": "markdown",
   "id": "f30a4a2a",
   "metadata": {},
   "source": [
    "# 3 - Symmetry around As"
   ]
  },
  {
   "cell_type": "code",
   "execution_count": 9,
   "id": "5cb2a8b7",
   "metadata": {},
   "outputs": [
    {
     "name": "stdout",
     "output_type": "stream",
     "text": [
      "Symmetry: Mirror plane (y, x, z)\n",
      "As [0, 0, 0] -> [0. 0. 0.]\n"
     ]
    },
    {
     "data": {
      "application/vnd.jupyter.widget-view+json": {
       "model_id": "18e0cb6355894e6f8b2223a68c0fbbce",
       "version_major": 2,
       "version_minor": 0
      },
      "text/plain": [
       "JsmolView(layout=Layout(align_self='stretch', height='400px'))"
      ]
     },
     "metadata": {},
     "output_type": "display_data"
    }
   ],
   "source": [
    "symid3, symname3, atomno3 = [(a, b, c) for a, b, c in symmetries if c == 3][0]\n",
    "print(f'Symmetry: {symname3}')\n",
    "print(f'As {As} -> {AsSym}')\n",
    "\n",
    "view3 = quick_view(struct)\n",
    "display(view3)"
   ]
  },
  {
   "cell_type": "code",
   "execution_count": 10,
   "id": "0565c447",
   "metadata": {},
   "outputs": [],
   "source": [
    "view3.script(f'draw symop {symid3} {{atomno={atomno3}}}')"
   ]
  },
  {
   "cell_type": "markdown",
   "id": "4a26a05e",
   "metadata": {},
   "source": [
    "### If the symmetries don't show (run after all jsmol quick_view loaded)"
   ]
  },
  {
   "cell_type": "code",
   "execution_count": 11,
   "id": "e50f79ef",
   "metadata": {},
   "outputs": [],
   "source": [
    "view1.script(f'draw symop {symid1} {{atomno={atomno1}}}')\n",
    "view2.script(f'draw symop {symid2} {{atomno={atomno2}}}')\n",
    "view3.script(f'draw symop {symid3} {{atomno={atomno3}}}')"
   ]
  }
 ],
 "metadata": {
  "kernelspec": {
   "display_name": "Python 3",
   "language": "python",
   "name": "python3"
  },
  "language_info": {
   "codemirror_mode": {
    "name": "ipython",
    "version": 3
   },
   "file_extension": ".py",
   "mimetype": "text/x-python",
   "name": "python",
   "nbconvert_exporter": "python",
   "pygments_lexer": "ipython3",
   "version": "3.6.8"
  }
 },
 "nbformat": 4,
 "nbformat_minor": 5
}
