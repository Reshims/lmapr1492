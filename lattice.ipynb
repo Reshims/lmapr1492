{
 "cells": [
  {
   "cell_type": "code",
   "execution_count": 1,
   "id": "23a25538",
   "metadata": {},
   "outputs": [],
   "source": [
    "mp_API_key = '7WeId8uaz60cHZ2s'\n",
    "mp_cryst = 'mp-9124'"
   ]
  },
  {
   "cell_type": "code",
   "execution_count": 2,
   "id": "material-steel",
   "metadata": {},
   "outputs": [],
   "source": [
    "from pymatgen import MPRester\n",
    "from pymatgen.symmetry.analyzer import SpacegroupAnalyzer"
   ]
  },
  {
   "cell_type": "code",
   "execution_count": 3,
   "id": "modern-colon",
   "metadata": {},
   "outputs": [],
   "source": [
    "#load structure\n",
    "with MPRester(mp_API_key) as m:\n",
    "    structure = m.get_structure_by_material_id(mp_cryst)\n",
    "    \n",
    "    #structure.to(filename=f'{mp_cryst}.cif') #save it"
   ]
  },
  {
   "cell_type": "code",
   "execution_count": 4,
   "id": "educated-porcelain",
   "metadata": {},
   "outputs": [
    {
     "name": "stdout",
     "output_type": "stream",
     "text": [
      "Full Formula (Li1 Zn1 As1)\n",
      "Reduced Formula: LiZnAs\n",
      "abc   :   4.227421   4.227421   4.227421\n",
      "angles:  60.000000  60.000000  60.000000\n",
      "Sites (3)\n",
      "  #  SP       a     b     c    magmom\n",
      "---  ----  ----  ----  ----  --------\n",
      "  0  Li    0.75  0.75  0.75         0\n",
      "  1  Zn    0.25  0.25  0.25        -0\n",
      "  2  As    0     0     0           -0\n"
     ]
    }
   ],
   "source": [
    "print(structure)\n",
    "sa_struct = SpacegroupAnalyzer(structure)"
   ]
  },
  {
   "cell_type": "code",
   "execution_count": 27,
   "id": "monetary-bachelor",
   "metadata": {},
   "outputs": [
    {
     "name": "stdout",
     "output_type": "stream",
     "text": [
      "Groupe spatial: F-43m\n",
      "Groupe ponctuel: F-43m\n",
      "Système crystallin: F-43m\n",
      "Type de maille: F-43m\n",
      "\n",
      "Réseau direct\n",
      "  a       b       c      \n",
      "x 0.00000 2.98924 2.98924\n",
      "y 2.98924 0.00000 2.98924\n",
      "z 2.98924 2.98924 0.00000\n",
      "\n",
      "Réseau réciproque\n",
      "  a*       b*       c*      \n",
      "x -1.05097 1.05097  1.05097 \n",
      "y 1.05097  -1.05097 1.05097 \n",
      "z 1.05097  1.05097  -1.05097\n"
     ]
    }
   ],
   "source": [
    "print(f'Groupe spatial: {sa_struct.get_space_group_symbol()}')\n",
    "print(f'Groupe ponctuel: {sa_struct.get_space_group_symbol()}')\n",
    "print(f'Système crystallin: {sa_struct.get_space_group_symbol()}')\n",
    "print(f'Type de maille: {sa_struct.get_space_group_symbol()}')\n",
    "\n",
    "print('\\nRéseau direct')\n",
    "print(f'{\" \"} {\"a\":<7} {\"b\":<7} {\"c\":<7}')\n",
    "for coord, (a, b, c) in zip(['x', 'y', 'z'], structure.lattice.matrix):\n",
    "    print(f'{coord} {a:.5f} {b:.5f} {c:.5f}')\n",
    "    \n",
    "print('\\nRéseau réciproque')\n",
    "print(f'{\" \"} {\"a*\":<8} {\"b*\":<8} {\"c*\":<8}')\n",
    "for coord, (a, b, c) in zip(['x', 'y', 'z'], structure.lattice.reciprocal_lattice.matrix):\n",
    "    print(f'{coord} {a:<8.5f} {b:<8.5f} {c:<8.5f}')"
   ]
  },
  {
   "cell_type": "code",
   "execution_count": null,
   "id": "db457297",
   "metadata": {},
   "outputs": [],
   "source": []
  }
 ],
 "metadata": {
  "kernelspec": {
   "display_name": "Python 3",
   "language": "python",
   "name": "python3"
  },
  "language_info": {
   "codemirror_mode": {
    "name": "ipython",
    "version": 3
   },
   "file_extension": ".py",
   "mimetype": "text/x-python",
   "name": "python",
   "nbconvert_exporter": "python",
   "pygments_lexer": "ipython3",
   "version": "3.6.8"
  }
 },
 "nbformat": 4,
 "nbformat_minor": 5
}
